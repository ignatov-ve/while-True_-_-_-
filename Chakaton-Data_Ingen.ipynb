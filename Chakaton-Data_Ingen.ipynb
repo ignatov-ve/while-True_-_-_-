{
 "cells": [
  {
   "cell_type": "code",
   "execution_count": 1,
   "metadata": {},
   "outputs": [],
   "source": [
    "import pandas as pd\n",
    "import numpy as np\n",
    "from datetime import datetime"
   ]
  },
  {
   "cell_type": "code",
   "execution_count": 51,
   "metadata": {},
   "outputs": [
    {
     "data": {
      "text/html": [
       "<div>\n",
       "<style scoped>\n",
       "    .dataframe tbody tr th:only-of-type {\n",
       "        vertical-align: middle;\n",
       "    }\n",
       "\n",
       "    .dataframe tbody tr th {\n",
       "        vertical-align: top;\n",
       "    }\n",
       "\n",
       "    .dataframe thead th {\n",
       "        text-align: right;\n",
       "    }\n",
       "</style>\n",
       "<table border=\"1\" class=\"dataframe\">\n",
       "  <thead>\n",
       "    <tr style=\"text-align: right;\">\n",
       "      <th></th>\n",
       "      <th>Unnamed: 0</th>\n",
       "      <th>Unnamed: 0.1</th>\n",
       "      <th>Unnamed: 0.1.1</th>\n",
       "      <th>Unnamed: 0.1.1.1</th>\n",
       "      <th>Unnamed: 0.1.1.1.1</th>\n",
       "      <th>id_зачисления</th>\n",
       "      <th>Статус</th>\n",
       "      <th>id_ученика</th>\n",
       "      <th>Дата_создания_записи</th>\n",
       "      <th>id_организации</th>\n",
       "      <th>...</th>\n",
       "      <th>date_zach_month</th>\n",
       "      <th>date_nach_zan_year</th>\n",
       "      <th>date_nach_zan_month</th>\n",
       "      <th>date_okon_zan_year</th>\n",
       "      <th>date_okon_zan_month</th>\n",
       "      <th>date_is_weekend</th>\n",
       "      <th>date_zach_is_weekend</th>\n",
       "      <th>date_nach_zan_is_weekend</th>\n",
       "      <th>week_day_okon_zan_is_weekend</th>\n",
       "      <th>Срок_обучения</th>\n",
       "    </tr>\n",
       "  </thead>\n",
       "  <tbody>\n",
       "    <tr>\n",
       "      <th>0</th>\n",
       "      <td>0</td>\n",
       "      <td>0</td>\n",
       "      <td>0</td>\n",
       "      <td>0</td>\n",
       "      <td>0</td>\n",
       "      <td>1325954</td>\n",
       "      <td>0</td>\n",
       "      <td>3</td>\n",
       "      <td>2015-08-06 14:47:19</td>\n",
       "      <td>30</td>\n",
       "      <td>...</td>\n",
       "      <td>8</td>\n",
       "      <td>2014</td>\n",
       "      <td>1</td>\n",
       "      <td>2021</td>\n",
       "      <td>1</td>\n",
       "      <td>0</td>\n",
       "      <td>0</td>\n",
       "      <td>0</td>\n",
       "      <td>1</td>\n",
       "      <td>2557</td>\n",
       "    </tr>\n",
       "    <tr>\n",
       "      <th>1</th>\n",
       "      <td>1</td>\n",
       "      <td>1</td>\n",
       "      <td>1</td>\n",
       "      <td>1</td>\n",
       "      <td>1</td>\n",
       "      <td>2879918</td>\n",
       "      <td>0</td>\n",
       "      <td>3</td>\n",
       "      <td>2015-10-29 18:35:21</td>\n",
       "      <td>30</td>\n",
       "      <td>...</td>\n",
       "      <td>1</td>\n",
       "      <td>2014</td>\n",
       "      <td>1</td>\n",
       "      <td>2021</td>\n",
       "      <td>1</td>\n",
       "      <td>0</td>\n",
       "      <td>1</td>\n",
       "      <td>0</td>\n",
       "      <td>1</td>\n",
       "      <td>2557</td>\n",
       "    </tr>\n",
       "    <tr>\n",
       "      <th>2</th>\n",
       "      <td>2</td>\n",
       "      <td>2</td>\n",
       "      <td>2</td>\n",
       "      <td>2</td>\n",
       "      <td>2</td>\n",
       "      <td>2901258</td>\n",
       "      <td>0</td>\n",
       "      <td>3</td>\n",
       "      <td>2015-02-11 14:05:56</td>\n",
       "      <td>30</td>\n",
       "      <td>...</td>\n",
       "      <td>9</td>\n",
       "      <td>2014</td>\n",
       "      <td>1</td>\n",
       "      <td>2021</td>\n",
       "      <td>1</td>\n",
       "      <td>0</td>\n",
       "      <td>1</td>\n",
       "      <td>0</td>\n",
       "      <td>1</td>\n",
       "      <td>2557</td>\n",
       "    </tr>\n",
       "    <tr>\n",
       "      <th>3</th>\n",
       "      <td>3</td>\n",
       "      <td>3</td>\n",
       "      <td>3</td>\n",
       "      <td>3</td>\n",
       "      <td>3</td>\n",
       "      <td>2912724</td>\n",
       "      <td>0</td>\n",
       "      <td>3</td>\n",
       "      <td>2015-03-11 14:29:27</td>\n",
       "      <td>30</td>\n",
       "      <td>...</td>\n",
       "      <td>9</td>\n",
       "      <td>2014</td>\n",
       "      <td>1</td>\n",
       "      <td>2021</td>\n",
       "      <td>1</td>\n",
       "      <td>0</td>\n",
       "      <td>1</td>\n",
       "      <td>0</td>\n",
       "      <td>1</td>\n",
       "      <td>2557</td>\n",
       "    </tr>\n",
       "    <tr>\n",
       "      <th>4</th>\n",
       "      <td>4</td>\n",
       "      <td>4</td>\n",
       "      <td>4</td>\n",
       "      <td>4</td>\n",
       "      <td>4</td>\n",
       "      <td>2912819</td>\n",
       "      <td>0</td>\n",
       "      <td>3</td>\n",
       "      <td>2015-03-11 14:34:15</td>\n",
       "      <td>30</td>\n",
       "      <td>...</td>\n",
       "      <td>9</td>\n",
       "      <td>2014</td>\n",
       "      <td>1</td>\n",
       "      <td>2021</td>\n",
       "      <td>1</td>\n",
       "      <td>0</td>\n",
       "      <td>1</td>\n",
       "      <td>0</td>\n",
       "      <td>1</td>\n",
       "      <td>2557</td>\n",
       "    </tr>\n",
       "    <tr>\n",
       "      <th>...</th>\n",
       "      <td>...</td>\n",
       "      <td>...</td>\n",
       "      <td>...</td>\n",
       "      <td>...</td>\n",
       "      <td>...</td>\n",
       "      <td>...</td>\n",
       "      <td>...</td>\n",
       "      <td>...</td>\n",
       "      <td>...</td>\n",
       "      <td>...</td>\n",
       "      <td>...</td>\n",
       "      <td>...</td>\n",
       "      <td>...</td>\n",
       "      <td>...</td>\n",
       "      <td>...</td>\n",
       "      <td>...</td>\n",
       "      <td>...</td>\n",
       "      <td>...</td>\n",
       "      <td>...</td>\n",
       "      <td>...</td>\n",
       "      <td>...</td>\n",
       "    </tr>\n",
       "    <tr>\n",
       "      <th>724808</th>\n",
       "      <td>724808</td>\n",
       "      <td>724808</td>\n",
       "      <td>724808</td>\n",
       "      <td>724808</td>\n",
       "      <td>724808</td>\n",
       "      <td>26412667</td>\n",
       "      <td>1</td>\n",
       "      <td>1</td>\n",
       "      <td>2019-12-11 16:47:17</td>\n",
       "      <td>45</td>\n",
       "      <td>...</td>\n",
       "      <td>2</td>\n",
       "      <td>2019</td>\n",
       "      <td>2</td>\n",
       "      <td>2024</td>\n",
       "      <td>2</td>\n",
       "      <td>0</td>\n",
       "      <td>1</td>\n",
       "      <td>1</td>\n",
       "      <td>0</td>\n",
       "      <td>1826</td>\n",
       "    </tr>\n",
       "    <tr>\n",
       "      <th>724809</th>\n",
       "      <td>724809</td>\n",
       "      <td>724809</td>\n",
       "      <td>724809</td>\n",
       "      <td>724809</td>\n",
       "      <td>724809</td>\n",
       "      <td>26413582</td>\n",
       "      <td>1</td>\n",
       "      <td>1</td>\n",
       "      <td>2019-12-11 16:55:08</td>\n",
       "      <td>45</td>\n",
       "      <td>...</td>\n",
       "      <td>2</td>\n",
       "      <td>2019</td>\n",
       "      <td>2</td>\n",
       "      <td>2024</td>\n",
       "      <td>2</td>\n",
       "      <td>0</td>\n",
       "      <td>1</td>\n",
       "      <td>1</td>\n",
       "      <td>0</td>\n",
       "      <td>1826</td>\n",
       "    </tr>\n",
       "    <tr>\n",
       "      <th>724810</th>\n",
       "      <td>724810</td>\n",
       "      <td>724810</td>\n",
       "      <td>724810</td>\n",
       "      <td>724810</td>\n",
       "      <td>724810</td>\n",
       "      <td>26414272</td>\n",
       "      <td>0</td>\n",
       "      <td>3</td>\n",
       "      <td>2019-12-11 17:01:58</td>\n",
       "      <td>45</td>\n",
       "      <td>...</td>\n",
       "      <td>12</td>\n",
       "      <td>2017</td>\n",
       "      <td>1</td>\n",
       "      <td>2025</td>\n",
       "      <td>1</td>\n",
       "      <td>0</td>\n",
       "      <td>0</td>\n",
       "      <td>0</td>\n",
       "      <td>0</td>\n",
       "      <td>2922</td>\n",
       "    </tr>\n",
       "    <tr>\n",
       "      <th>724811</th>\n",
       "      <td>724811</td>\n",
       "      <td>724811</td>\n",
       "      <td>724811</td>\n",
       "      <td>724811</td>\n",
       "      <td>724811</td>\n",
       "      <td>26414912</td>\n",
       "      <td>1</td>\n",
       "      <td>1</td>\n",
       "      <td>2019-12-11 17:09:09</td>\n",
       "      <td>45</td>\n",
       "      <td>...</td>\n",
       "      <td>2</td>\n",
       "      <td>2019</td>\n",
       "      <td>2</td>\n",
       "      <td>2024</td>\n",
       "      <td>2</td>\n",
       "      <td>0</td>\n",
       "      <td>1</td>\n",
       "      <td>1</td>\n",
       "      <td>0</td>\n",
       "      <td>1826</td>\n",
       "    </tr>\n",
       "    <tr>\n",
       "      <th>724812</th>\n",
       "      <td>724812</td>\n",
       "      <td>724812</td>\n",
       "      <td>724812</td>\n",
       "      <td>724812</td>\n",
       "      <td>724812</td>\n",
       "      <td>26415197</td>\n",
       "      <td>1</td>\n",
       "      <td>1</td>\n",
       "      <td>2019-12-11 17:10:51</td>\n",
       "      <td>45</td>\n",
       "      <td>...</td>\n",
       "      <td>12</td>\n",
       "      <td>2017</td>\n",
       "      <td>1</td>\n",
       "      <td>2025</td>\n",
       "      <td>1</td>\n",
       "      <td>0</td>\n",
       "      <td>0</td>\n",
       "      <td>0</td>\n",
       "      <td>0</td>\n",
       "      <td>2922</td>\n",
       "    </tr>\n",
       "  </tbody>\n",
       "</table>\n",
       "<p>724813 rows × 40 columns</p>\n",
       "</div>"
      ],
      "text/plain": [
       "        Unnamed: 0  Unnamed: 0.1  Unnamed: 0.1.1  Unnamed: 0.1.1.1  \\\n",
       "0                0             0               0                 0   \n",
       "1                1             1               1                 1   \n",
       "2                2             2               2                 2   \n",
       "3                3             3               3                 3   \n",
       "4                4             4               4                 4   \n",
       "...            ...           ...             ...               ...   \n",
       "724808      724808        724808          724808            724808   \n",
       "724809      724809        724809          724809            724809   \n",
       "724810      724810        724810          724810            724810   \n",
       "724811      724811        724811          724811            724811   \n",
       "724812      724812        724812          724812            724812   \n",
       "\n",
       "        Unnamed: 0.1.1.1.1  id_зачисления  Статус  id_ученика  \\\n",
       "0                        0        1325954       0           3   \n",
       "1                        1        2879918       0           3   \n",
       "2                        2        2901258       0           3   \n",
       "3                        3        2912724       0           3   \n",
       "4                        4        2912819       0           3   \n",
       "...                    ...            ...     ...         ...   \n",
       "724808              724808       26412667       1           1   \n",
       "724809              724809       26413582       1           1   \n",
       "724810              724810       26414272       0           3   \n",
       "724811              724811       26414912       1           1   \n",
       "724812              724812       26415197       1           1   \n",
       "\n",
       "       Дата_создания_записи  id_организации  ...  date_zach_month  \\\n",
       "0       2015-08-06 14:47:19              30  ...                8   \n",
       "1       2015-10-29 18:35:21              30  ...                1   \n",
       "2       2015-02-11 14:05:56              30  ...                9   \n",
       "3       2015-03-11 14:29:27              30  ...                9   \n",
       "4       2015-03-11 14:34:15              30  ...                9   \n",
       "...                     ...             ...  ...              ...   \n",
       "724808  2019-12-11 16:47:17              45  ...                2   \n",
       "724809  2019-12-11 16:55:08              45  ...                2   \n",
       "724810  2019-12-11 17:01:58              45  ...               12   \n",
       "724811  2019-12-11 17:09:09              45  ...                2   \n",
       "724812  2019-12-11 17:10:51              45  ...               12   \n",
       "\n",
       "        date_nach_zan_year date_nach_zan_month date_okon_zan_year  \\\n",
       "0                     2014                   1               2021   \n",
       "1                     2014                   1               2021   \n",
       "2                     2014                   1               2021   \n",
       "3                     2014                   1               2021   \n",
       "4                     2014                   1               2021   \n",
       "...                    ...                 ...                ...   \n",
       "724808                2019                   2               2024   \n",
       "724809                2019                   2               2024   \n",
       "724810                2017                   1               2025   \n",
       "724811                2019                   2               2024   \n",
       "724812                2017                   1               2025   \n",
       "\n",
       "        date_okon_zan_month  date_is_weekend  date_zach_is_weekend  \\\n",
       "0                         1                0                     0   \n",
       "1                         1                0                     1   \n",
       "2                         1                0                     1   \n",
       "3                         1                0                     1   \n",
       "4                         1                0                     1   \n",
       "...                     ...              ...                   ...   \n",
       "724808                    2                0                     1   \n",
       "724809                    2                0                     1   \n",
       "724810                    1                0                     0   \n",
       "724811                    2                0                     1   \n",
       "724812                    1                0                     0   \n",
       "\n",
       "       date_nach_zan_is_weekend week_day_okon_zan_is_weekend Срок_обучения  \n",
       "0                             0                            1          2557  \n",
       "1                             0                            1          2557  \n",
       "2                             0                            1          2557  \n",
       "3                             0                            1          2557  \n",
       "4                             0                            1          2557  \n",
       "...                         ...                          ...           ...  \n",
       "724808                        1                            0          1826  \n",
       "724809                        1                            0          1826  \n",
       "724810                        0                            0          2922  \n",
       "724811                        1                            0          1826  \n",
       "724812                        0                            0          2922  \n",
       "\n",
       "[724813 rows x 40 columns]"
      ]
     },
     "execution_count": 51,
     "metadata": {},
     "output_type": "execute_result"
    }
   ],
   "source": [
    "df = pd.read_csv('/home/vyacheslav/Рабочий стол/MoscHak/Еще ДС/MegaRelation_hackaton_7.csv', delimiter=',')\n",
    "df"
   ]
  },
  {
   "cell_type": "code",
   "execution_count": null,
   "metadata": {},
   "outputs": [],
   "source": [
    "df['date_okon_zan'] = df['Плановая_дата_окончания_занятий'].str.extract(r'(\\d{1,2}.\\d{1,2}.\\d{4})')"
   ]
  },
  {
   "cell_type": "code",
   "execution_count": null,
   "metadata": {},
   "outputs": [],
   "source": [
    "# df['date_zach']"
   ]
  },
  {
   "cell_type": "code",
   "execution_count": 37,
   "metadata": {},
   "outputs": [],
   "source": [
    "df['Плановая_дата_окончания_занятий'] = pd.to_datetime(df['Плановая_дата_окончания_занятий'])"
   ]
  },
  {
   "cell_type": "code",
   "execution_count": null,
   "metadata": {},
   "outputs": [],
   "source": [
    "df['week_day_okon_zan'] = df['date_okon_zan'].dt.weekday"
   ]
  },
  {
   "cell_type": "code",
   "execution_count": 17,
   "metadata": {},
   "outputs": [],
   "source": [
    "df['date_okon_zan'] = pd.to_datetime(df['date_okon_zan'])"
   ]
  },
  {
   "cell_type": "code",
   "execution_count": 18,
   "metadata": {},
   "outputs": [],
   "source": [
    "df['date_okon_zan_year'] = df['date_okon_zan'].dt.year"
   ]
  },
  {
   "cell_type": "code",
   "execution_count": 19,
   "metadata": {},
   "outputs": [],
   "source": [
    "df['date_okon_zan_month'] = df['date_okon_zan'].dt.month"
   ]
  },
  {
   "cell_type": "code",
   "execution_count": 27,
   "metadata": {},
   "outputs": [],
   "source": [
    "df['week_day_okon_zan_is_weekend'] = np.where((df['week_day_okon_zan'] == 5) | (df['week_day_okon_zan'] == 6), 1, 0)"
   ]
  },
  {
   "cell_type": "code",
   "execution_count": 47,
   "metadata": {},
   "outputs": [],
   "source": [
    "df['Срок_обучения'] = (df['Плановая_дата_окончания_занятий'] - df['Плановая_дата_начала_занятий']).dt.days"
   ]
  },
  {
   "cell_type": "code",
   "execution_count": 48,
   "metadata": {},
   "outputs": [
    {
     "data": {
      "text/plain": [
       "0         2557\n",
       "1         2557\n",
       "2         2557\n",
       "3         2557\n",
       "4         2557\n",
       "          ... \n",
       "724808    1826\n",
       "724809    1826\n",
       "724810    2922\n",
       "724811    1826\n",
       "724812    2922\n",
       "Name: Срок_обучения, Length: 724813, dtype: int64"
      ]
     },
     "execution_count": 48,
     "metadata": {},
     "output_type": "execute_result"
    }
   ],
   "source": [
    "df['Срок_обучения']"
   ]
  },
  {
   "cell_type": "code",
   "execution_count": 42,
   "metadata": {},
   "outputs": [],
   "source": []
  },
  {
   "cell_type": "code",
   "execution_count": 53,
   "metadata": {},
   "outputs": [
    {
     "data": {
      "text/plain": [
       "Index(['Unnamed: 0', 'Unnamed: 0.1', 'Unnamed: 0.1.1', 'Unnamed: 0.1.1.1',\n",
       "       'Unnamed: 0.1.1.1.1', 'id_зачисления', 'Статус', 'id_ученика',\n",
       "       'Дата_создания_записи', 'id_организации', 'id_заявления', 'id_услуги',\n",
       "       'дата_зачисления', 'дата_отчисления', 'причина_перевода',\n",
       "       'предыдущая_запись_зачисления', 'следующая_запись_зачисления',\n",
       "       'Плановая_дата_начала_занятий', 'Плановая_дата_окончания_занятий',\n",
       "       'date', 'week_day', 'date_zach', 'week_day_d_zach', 'date_nach_zan',\n",
       "       'week_day_d_nach_zan', 'date_okon_zan', 'week_day_okon_zan',\n",
       "       'date_year', 'date_month', 'date_zach_year', 'date_zach_month',\n",
       "       'date_nach_zan_year', 'date_nach_zan_month', 'date_okon_zan_year',\n",
       "       'date_okon_zan_month', 'date_is_weekend', 'date_zach_is_weekend',\n",
       "       'date_nach_zan_is_weekend', 'week_day_okon_zan_is_weekend',\n",
       "       'Срок_обучения'],\n",
       "      dtype='object')"
      ]
     },
     "execution_count": 53,
     "metadata": {},
     "output_type": "execute_result"
    }
   ],
   "source": [
    "df.columns"
   ]
  },
  {
   "cell_type": "code",
   "execution_count": 59,
   "metadata": {},
   "outputs": [],
   "source": [
    "df1 = df[['id_зачисления', 'Статус', 'id_ученика', 'id_организации', 'id_услуги',\n",
    "       'week_day', 'week_day_d_zach', 'week_day_d_nach_zan', 'week_day_okon_zan',\n",
    "       'date_year', 'date_month', 'date_zach_year', 'date_zach_month',\n",
    "       'date_nach_zan_year', 'date_nach_zan_month', 'date_okon_zan_year',\n",
    "       'date_okon_zan_month', 'date_is_weekend', 'date_zach_is_weekend',\n",
    "       'date_nach_zan_is_weekend', 'week_day_okon_zan_is_weekend',\n",
    "       'Срок_обучения']]"
   ]
  },
  {
   "cell_type": "code",
   "execution_count": 60,
   "metadata": {},
   "outputs": [
    {
     "data": {
      "text/html": [
       "<div>\n",
       "<style scoped>\n",
       "    .dataframe tbody tr th:only-of-type {\n",
       "        vertical-align: middle;\n",
       "    }\n",
       "\n",
       "    .dataframe tbody tr th {\n",
       "        vertical-align: top;\n",
       "    }\n",
       "\n",
       "    .dataframe thead th {\n",
       "        text-align: right;\n",
       "    }\n",
       "</style>\n",
       "<table border=\"1\" class=\"dataframe\">\n",
       "  <thead>\n",
       "    <tr style=\"text-align: right;\">\n",
       "      <th></th>\n",
       "      <th>id_зачисления</th>\n",
       "      <th>Статус</th>\n",
       "      <th>id_ученика</th>\n",
       "      <th>id_организации</th>\n",
       "      <th>id_услуги</th>\n",
       "      <th>week_day</th>\n",
       "      <th>week_day_d_zach</th>\n",
       "      <th>week_day_d_nach_zan</th>\n",
       "      <th>week_day_okon_zan</th>\n",
       "      <th>date_year</th>\n",
       "      <th>...</th>\n",
       "      <th>date_zach_month</th>\n",
       "      <th>date_nach_zan_year</th>\n",
       "      <th>date_nach_zan_month</th>\n",
       "      <th>date_okon_zan_year</th>\n",
       "      <th>date_okon_zan_month</th>\n",
       "      <th>date_is_weekend</th>\n",
       "      <th>date_zach_is_weekend</th>\n",
       "      <th>date_nach_zan_is_weekend</th>\n",
       "      <th>week_day_okon_zan_is_weekend</th>\n",
       "      <th>Срок_обучения</th>\n",
       "    </tr>\n",
       "  </thead>\n",
       "  <tbody>\n",
       "    <tr>\n",
       "      <th>0</th>\n",
       "      <td>1325954</td>\n",
       "      <td>0</td>\n",
       "      <td>3</td>\n",
       "      <td>30</td>\n",
       "      <td>39178</td>\n",
       "      <td>3</td>\n",
       "      <td>3</td>\n",
       "      <td>3</td>\n",
       "      <td>5</td>\n",
       "      <td>2015</td>\n",
       "      <td>...</td>\n",
       "      <td>8</td>\n",
       "      <td>2014</td>\n",
       "      <td>1</td>\n",
       "      <td>2021</td>\n",
       "      <td>1</td>\n",
       "      <td>0</td>\n",
       "      <td>0</td>\n",
       "      <td>0</td>\n",
       "      <td>1</td>\n",
       "      <td>2557</td>\n",
       "    </tr>\n",
       "    <tr>\n",
       "      <th>1</th>\n",
       "      <td>2879918</td>\n",
       "      <td>0</td>\n",
       "      <td>3</td>\n",
       "      <td>30</td>\n",
       "      <td>39178</td>\n",
       "      <td>3</td>\n",
       "      <td>5</td>\n",
       "      <td>3</td>\n",
       "      <td>5</td>\n",
       "      <td>2015</td>\n",
       "      <td>...</td>\n",
       "      <td>1</td>\n",
       "      <td>2014</td>\n",
       "      <td>1</td>\n",
       "      <td>2021</td>\n",
       "      <td>1</td>\n",
       "      <td>0</td>\n",
       "      <td>1</td>\n",
       "      <td>0</td>\n",
       "      <td>1</td>\n",
       "      <td>2557</td>\n",
       "    </tr>\n",
       "    <tr>\n",
       "      <th>2</th>\n",
       "      <td>2901258</td>\n",
       "      <td>0</td>\n",
       "      <td>3</td>\n",
       "      <td>30</td>\n",
       "      <td>39178</td>\n",
       "      <td>2</td>\n",
       "      <td>5</td>\n",
       "      <td>3</td>\n",
       "      <td>5</td>\n",
       "      <td>2015</td>\n",
       "      <td>...</td>\n",
       "      <td>9</td>\n",
       "      <td>2014</td>\n",
       "      <td>1</td>\n",
       "      <td>2021</td>\n",
       "      <td>1</td>\n",
       "      <td>0</td>\n",
       "      <td>1</td>\n",
       "      <td>0</td>\n",
       "      <td>1</td>\n",
       "      <td>2557</td>\n",
       "    </tr>\n",
       "    <tr>\n",
       "      <th>3</th>\n",
       "      <td>2912724</td>\n",
       "      <td>0</td>\n",
       "      <td>3</td>\n",
       "      <td>30</td>\n",
       "      <td>39178</td>\n",
       "      <td>2</td>\n",
       "      <td>5</td>\n",
       "      <td>3</td>\n",
       "      <td>5</td>\n",
       "      <td>2015</td>\n",
       "      <td>...</td>\n",
       "      <td>9</td>\n",
       "      <td>2014</td>\n",
       "      <td>1</td>\n",
       "      <td>2021</td>\n",
       "      <td>1</td>\n",
       "      <td>0</td>\n",
       "      <td>1</td>\n",
       "      <td>0</td>\n",
       "      <td>1</td>\n",
       "      <td>2557</td>\n",
       "    </tr>\n",
       "    <tr>\n",
       "      <th>4</th>\n",
       "      <td>2912819</td>\n",
       "      <td>0</td>\n",
       "      <td>3</td>\n",
       "      <td>30</td>\n",
       "      <td>39178</td>\n",
       "      <td>2</td>\n",
       "      <td>5</td>\n",
       "      <td>3</td>\n",
       "      <td>5</td>\n",
       "      <td>2015</td>\n",
       "      <td>...</td>\n",
       "      <td>9</td>\n",
       "      <td>2014</td>\n",
       "      <td>1</td>\n",
       "      <td>2021</td>\n",
       "      <td>1</td>\n",
       "      <td>0</td>\n",
       "      <td>1</td>\n",
       "      <td>0</td>\n",
       "      <td>1</td>\n",
       "      <td>2557</td>\n",
       "    </tr>\n",
       "    <tr>\n",
       "      <th>...</th>\n",
       "      <td>...</td>\n",
       "      <td>...</td>\n",
       "      <td>...</td>\n",
       "      <td>...</td>\n",
       "      <td>...</td>\n",
       "      <td>...</td>\n",
       "      <td>...</td>\n",
       "      <td>...</td>\n",
       "      <td>...</td>\n",
       "      <td>...</td>\n",
       "      <td>...</td>\n",
       "      <td>...</td>\n",
       "      <td>...</td>\n",
       "      <td>...</td>\n",
       "      <td>...</td>\n",
       "      <td>...</td>\n",
       "      <td>...</td>\n",
       "      <td>...</td>\n",
       "      <td>...</td>\n",
       "      <td>...</td>\n",
       "      <td>...</td>\n",
       "    </tr>\n",
       "    <tr>\n",
       "      <th>724808</th>\n",
       "      <td>26412667</td>\n",
       "      <td>1</td>\n",
       "      <td>1</td>\n",
       "      <td>45</td>\n",
       "      <td>660705</td>\n",
       "      <td>2</td>\n",
       "      <td>5</td>\n",
       "      <td>5</td>\n",
       "      <td>4</td>\n",
       "      <td>2019</td>\n",
       "      <td>...</td>\n",
       "      <td>2</td>\n",
       "      <td>2019</td>\n",
       "      <td>2</td>\n",
       "      <td>2024</td>\n",
       "      <td>2</td>\n",
       "      <td>0</td>\n",
       "      <td>1</td>\n",
       "      <td>1</td>\n",
       "      <td>0</td>\n",
       "      <td>1826</td>\n",
       "    </tr>\n",
       "    <tr>\n",
       "      <th>724809</th>\n",
       "      <td>26413582</td>\n",
       "      <td>1</td>\n",
       "      <td>1</td>\n",
       "      <td>45</td>\n",
       "      <td>660705</td>\n",
       "      <td>2</td>\n",
       "      <td>5</td>\n",
       "      <td>5</td>\n",
       "      <td>4</td>\n",
       "      <td>2019</td>\n",
       "      <td>...</td>\n",
       "      <td>2</td>\n",
       "      <td>2019</td>\n",
       "      <td>2</td>\n",
       "      <td>2024</td>\n",
       "      <td>2</td>\n",
       "      <td>0</td>\n",
       "      <td>1</td>\n",
       "      <td>1</td>\n",
       "      <td>0</td>\n",
       "      <td>1826</td>\n",
       "    </tr>\n",
       "    <tr>\n",
       "      <th>724810</th>\n",
       "      <td>26414272</td>\n",
       "      <td>0</td>\n",
       "      <td>3</td>\n",
       "      <td>45</td>\n",
       "      <td>660705</td>\n",
       "      <td>2</td>\n",
       "      <td>2</td>\n",
       "      <td>0</td>\n",
       "      <td>3</td>\n",
       "      <td>2019</td>\n",
       "      <td>...</td>\n",
       "      <td>12</td>\n",
       "      <td>2017</td>\n",
       "      <td>1</td>\n",
       "      <td>2025</td>\n",
       "      <td>1</td>\n",
       "      <td>0</td>\n",
       "      <td>0</td>\n",
       "      <td>0</td>\n",
       "      <td>0</td>\n",
       "      <td>2922</td>\n",
       "    </tr>\n",
       "    <tr>\n",
       "      <th>724811</th>\n",
       "      <td>26414912</td>\n",
       "      <td>1</td>\n",
       "      <td>1</td>\n",
       "      <td>45</td>\n",
       "      <td>660705</td>\n",
       "      <td>2</td>\n",
       "      <td>5</td>\n",
       "      <td>5</td>\n",
       "      <td>4</td>\n",
       "      <td>2019</td>\n",
       "      <td>...</td>\n",
       "      <td>2</td>\n",
       "      <td>2019</td>\n",
       "      <td>2</td>\n",
       "      <td>2024</td>\n",
       "      <td>2</td>\n",
       "      <td>0</td>\n",
       "      <td>1</td>\n",
       "      <td>1</td>\n",
       "      <td>0</td>\n",
       "      <td>1826</td>\n",
       "    </tr>\n",
       "    <tr>\n",
       "      <th>724812</th>\n",
       "      <td>26415197</td>\n",
       "      <td>1</td>\n",
       "      <td>1</td>\n",
       "      <td>45</td>\n",
       "      <td>660705</td>\n",
       "      <td>2</td>\n",
       "      <td>2</td>\n",
       "      <td>0</td>\n",
       "      <td>3</td>\n",
       "      <td>2019</td>\n",
       "      <td>...</td>\n",
       "      <td>12</td>\n",
       "      <td>2017</td>\n",
       "      <td>1</td>\n",
       "      <td>2025</td>\n",
       "      <td>1</td>\n",
       "      <td>0</td>\n",
       "      <td>0</td>\n",
       "      <td>0</td>\n",
       "      <td>0</td>\n",
       "      <td>2922</td>\n",
       "    </tr>\n",
       "  </tbody>\n",
       "</table>\n",
       "<p>724813 rows × 22 columns</p>\n",
       "</div>"
      ],
      "text/plain": [
       "        id_зачисления  Статус  id_ученика  id_организации  id_услуги  \\\n",
       "0             1325954       0           3              30      39178   \n",
       "1             2879918       0           3              30      39178   \n",
       "2             2901258       0           3              30      39178   \n",
       "3             2912724       0           3              30      39178   \n",
       "4             2912819       0           3              30      39178   \n",
       "...               ...     ...         ...             ...        ...   \n",
       "724808       26412667       1           1              45     660705   \n",
       "724809       26413582       1           1              45     660705   \n",
       "724810       26414272       0           3              45     660705   \n",
       "724811       26414912       1           1              45     660705   \n",
       "724812       26415197       1           1              45     660705   \n",
       "\n",
       "        week_day  week_day_d_zach  week_day_d_nach_zan  week_day_okon_zan  \\\n",
       "0              3                3                    3                  5   \n",
       "1              3                5                    3                  5   \n",
       "2              2                5                    3                  5   \n",
       "3              2                5                    3                  5   \n",
       "4              2                5                    3                  5   \n",
       "...          ...              ...                  ...                ...   \n",
       "724808         2                5                    5                  4   \n",
       "724809         2                5                    5                  4   \n",
       "724810         2                2                    0                  3   \n",
       "724811         2                5                    5                  4   \n",
       "724812         2                2                    0                  3   \n",
       "\n",
       "        date_year  ...  date_zach_month  date_nach_zan_year  \\\n",
       "0            2015  ...                8                2014   \n",
       "1            2015  ...                1                2014   \n",
       "2            2015  ...                9                2014   \n",
       "3            2015  ...                9                2014   \n",
       "4            2015  ...                9                2014   \n",
       "...           ...  ...              ...                 ...   \n",
       "724808       2019  ...                2                2019   \n",
       "724809       2019  ...                2                2019   \n",
       "724810       2019  ...               12                2017   \n",
       "724811       2019  ...                2                2019   \n",
       "724812       2019  ...               12                2017   \n",
       "\n",
       "        date_nach_zan_month  date_okon_zan_year  date_okon_zan_month  \\\n",
       "0                         1                2021                    1   \n",
       "1                         1                2021                    1   \n",
       "2                         1                2021                    1   \n",
       "3                         1                2021                    1   \n",
       "4                         1                2021                    1   \n",
       "...                     ...                 ...                  ...   \n",
       "724808                    2                2024                    2   \n",
       "724809                    2                2024                    2   \n",
       "724810                    1                2025                    1   \n",
       "724811                    2                2024                    2   \n",
       "724812                    1                2025                    1   \n",
       "\n",
       "        date_is_weekend  date_zach_is_weekend  date_nach_zan_is_weekend  \\\n",
       "0                     0                     0                         0   \n",
       "1                     0                     1                         0   \n",
       "2                     0                     1                         0   \n",
       "3                     0                     1                         0   \n",
       "4                     0                     1                         0   \n",
       "...                 ...                   ...                       ...   \n",
       "724808                0                     1                         1   \n",
       "724809                0                     1                         1   \n",
       "724810                0                     0                         0   \n",
       "724811                0                     1                         1   \n",
       "724812                0                     0                         0   \n",
       "\n",
       "        week_day_okon_zan_is_weekend  Срок_обучения  \n",
       "0                                  1           2557  \n",
       "1                                  1           2557  \n",
       "2                                  1           2557  \n",
       "3                                  1           2557  \n",
       "4                                  1           2557  \n",
       "...                              ...            ...  \n",
       "724808                             0           1826  \n",
       "724809                             0           1826  \n",
       "724810                             0           2922  \n",
       "724811                             0           1826  \n",
       "724812                             0           2922  \n",
       "\n",
       "[724813 rows x 22 columns]"
      ]
     },
     "execution_count": 60,
     "metadata": {},
     "output_type": "execute_result"
    }
   ],
   "source": [
    "df1"
   ]
  },
  {
   "cell_type": "code",
   "execution_count": 61,
   "metadata": {},
   "outputs": [
    {
     "name": "stdout",
     "output_type": "stream",
     "text": [
      "<class 'pandas.core.frame.DataFrame'>\n",
      "RangeIndex: 724813 entries, 0 to 724812\n",
      "Data columns (total 22 columns):\n",
      " #   Column                        Non-Null Count   Dtype\n",
      "---  ------                        --------------   -----\n",
      " 0   id_зачисления                 724813 non-null  int64\n",
      " 1   Статус                        724813 non-null  int64\n",
      " 2   id_ученика                    724813 non-null  int64\n",
      " 3   id_организации                724813 non-null  int64\n",
      " 4   id_услуги                     724813 non-null  int64\n",
      " 5   week_day                      724813 non-null  int64\n",
      " 6   week_day_d_zach               724813 non-null  int64\n",
      " 7   week_day_d_nach_zan           724813 non-null  int64\n",
      " 8   week_day_okon_zan             724813 non-null  int64\n",
      " 9   date_year                     724813 non-null  int64\n",
      " 10  date_month                    724813 non-null  int64\n",
      " 11  date_zach_year                724813 non-null  int64\n",
      " 12  date_zach_month               724813 non-null  int64\n",
      " 13  date_nach_zan_year            724813 non-null  int64\n",
      " 14  date_nach_zan_month           724813 non-null  int64\n",
      " 15  date_okon_zan_year            724813 non-null  int64\n",
      " 16  date_okon_zan_month           724813 non-null  int64\n",
      " 17  date_is_weekend               724813 non-null  int64\n",
      " 18  date_zach_is_weekend          724813 non-null  int64\n",
      " 19  date_nach_zan_is_weekend      724813 non-null  int64\n",
      " 20  week_day_okon_zan_is_weekend  724813 non-null  int64\n",
      " 21  Срок_обучения                 724813 non-null  int64\n",
      "dtypes: int64(22)\n",
      "memory usage: 121.7 MB\n"
     ]
    }
   ],
   "source": [
    "df1.info()"
   ]
  },
  {
   "cell_type": "code",
   "execution_count": 52,
   "metadata": {},
   "outputs": [
    {
     "name": "stdout",
     "output_type": "stream",
     "text": [
      "<class 'pandas.core.frame.DataFrame'>\n",
      "RangeIndex: 724813 entries, 0 to 724812\n",
      "Data columns (total 40 columns):\n",
      " #   Column                           Non-Null Count   Dtype \n",
      "---  ------                           --------------   ----- \n",
      " 0   Unnamed: 0                       724813 non-null  int64 \n",
      " 1   Unnamed: 0.1                     724813 non-null  int64 \n",
      " 2   Unnamed: 0.1.1                   724813 non-null  int64 \n",
      " 3   Unnamed: 0.1.1.1                 724813 non-null  int64 \n",
      " 4   Unnamed: 0.1.1.1.1               724813 non-null  int64 \n",
      " 5   id_зачисления                    724813 non-null  int64 \n",
      " 6   Статус                           724813 non-null  int64 \n",
      " 7   id_ученика                       724813 non-null  int64 \n",
      " 8   Дата_создания_записи             724813 non-null  object\n",
      " 9   id_организации                   724813 non-null  int64 \n",
      " 10  id_заявления                     724813 non-null  int64 \n",
      " 11  id_услуги                        724813 non-null  int64 \n",
      " 12  дата_зачисления                  724813 non-null  object\n",
      " 13  дата_отчисления                  724813 non-null  object\n",
      " 14  причина_перевода                 724813 non-null  int64 \n",
      " 15  предыдущая_запись_зачисления     724813 non-null  int64 \n",
      " 16  следующая_запись_зачисления      724813 non-null  int64 \n",
      " 17  Плановая_дата_начала_занятий     724813 non-null  object\n",
      " 18  Плановая_дата_окончания_занятий  724813 non-null  object\n",
      " 19  date                             724813 non-null  object\n",
      " 20  week_day                         724813 non-null  int64 \n",
      " 21  date_zach                        724813 non-null  object\n",
      " 22  week_day_d_zach                  724813 non-null  int64 \n",
      " 23  date_nach_zan                    724813 non-null  object\n",
      " 24  week_day_d_nach_zan              724813 non-null  int64 \n",
      " 25  date_okon_zan                    724813 non-null  object\n",
      " 26  week_day_okon_zan                724813 non-null  int64 \n",
      " 27  date_year                        724813 non-null  int64 \n",
      " 28  date_month                       724813 non-null  int64 \n",
      " 29  date_zach_year                   724813 non-null  int64 \n",
      " 30  date_zach_month                  724813 non-null  int64 \n",
      " 31  date_nach_zan_year               724813 non-null  int64 \n",
      " 32  date_nach_zan_month              724813 non-null  int64 \n",
      " 33  date_okon_zan_year               724813 non-null  int64 \n",
      " 34  date_okon_zan_month              724813 non-null  int64 \n",
      " 35  date_is_weekend                  724813 non-null  int64 \n",
      " 36  date_zach_is_weekend             724813 non-null  int64 \n",
      " 37  date_nach_zan_is_weekend         724813 non-null  int64 \n",
      " 38  week_day_okon_zan_is_weekend     724813 non-null  int64 \n",
      " 39  Срок_обучения                    724813 non-null  int64 \n",
      "dtypes: int64(31), object(9)\n",
      "memory usage: 221.2+ MB\n"
     ]
    }
   ],
   "source": [
    "df.info()"
   ]
  },
  {
   "cell_type": "code",
   "execution_count": null,
   "metadata": {},
   "outputs": [],
   "source": []
  },
  {
   "cell_type": "code",
   "execution_count": 33,
   "metadata": {},
   "outputs": [],
   "source": [
    "df['Статус'] = df['Статус'].replace({2:0, 3:0})"
   ]
  },
  {
   "cell_type": "code",
   "execution_count": 35,
   "metadata": {},
   "outputs": [
    {
     "data": {
      "text/plain": [
       "<bound method IndexOpsMixin.value_counts of 0         0\n",
       "1         0\n",
       "2         0\n",
       "3         0\n",
       "4         0\n",
       "         ..\n",
       "724808    1\n",
       "724809    1\n",
       "724810    0\n",
       "724811    1\n",
       "724812    1\n",
       "Name: Статус, Length: 724813, dtype: int64>"
      ]
     },
     "execution_count": 35,
     "metadata": {},
     "output_type": "execute_result"
    }
   ],
   "source": [
    "df['Статус'].value_counts"
   ]
  },
  {
   "cell_type": "code",
   "execution_count": null,
   "metadata": {},
   "outputs": [],
   "source": []
  },
  {
   "cell_type": "code",
   "execution_count": null,
   "metadata": {},
   "outputs": [],
   "source": [
    "df.columns"
   ]
  },
  {
   "cell_type": "code",
   "execution_count": null,
   "metadata": {},
   "outputs": [],
   "source": [
    "df.loc[df['Плановая_дата_окончания_занятий'].isna(), 'Плановая_дата_окончания_занятий'] = df['Плановая_дата_окончания_занятий'].mode()[0]"
   ]
  },
  {
   "cell_type": "code",
   "execution_count": 62,
   "metadata": {},
   "outputs": [],
   "source": [
    "df1.to_csv('/home/vyacheslav/Рабочий стол/MoscHak/Еще ДС/MegaRelation_hackaton_8.csv', encoding= 'utf-8')"
   ]
  },
  {
   "cell_type": "code",
   "execution_count": null,
   "metadata": {},
   "outputs": [],
   "source": [
    "df11 = pd.read_csv('/home/vyacheslav/Рабочий стол/MoscHak/Еще ДС/MegaRelation_hackaton_3.csv')\n",
    "df11"
   ]
  },
  {
   "cell_type": "code",
   "execution_count": null,
   "metadata": {},
   "outputs": [],
   "source": [
    "df10 = df9[['id_зачисления', 'Статус', 'id_ученика', 'Дата_создания_записи',\n",
    "       'id_организации', 'id_заявления', 'id_услуги', 'дата_зачисления',\n",
    "       'дата_отчисления', 'причина_перевода', 'предыдущая_запись_зачисления',\n",
    "       'следующая_запись_зачисления', 'Плановая_дата_начала_занятий',\n",
    "       'Плановая_дата_окончания_занятий']]"
   ]
  },
  {
   "cell_type": "code",
   "execution_count": null,
   "metadata": {},
   "outputs": [],
   "source": [
    "df11.info()"
   ]
  },
  {
   "cell_type": "code",
   "execution_count": null,
   "metadata": {},
   "outputs": [],
   "source": [
    "df9.info()"
   ]
  },
  {
   "cell_type": "code",
   "execution_count": null,
   "metadata": {},
   "outputs": [],
   "source": [
    "df[['Статус', 'id_ученика', 'id_заявления', 'причина_перевода', 'предыдущая_запись_зачисления', 'следующая_запись_зачисления']].astype(int)"
   ]
  },
  {
   "cell_type": "code",
   "execution_count": null,
   "metadata": {},
   "outputs": [],
   "source": [
    "df8['Дата_создания_записи'] = df8['Дата_создания_записи'].astype('datetime64[ns]')"
   ]
  },
  {
   "cell_type": "code",
   "execution_count": null,
   "metadata": {},
   "outputs": [],
   "source": [
    "df5['Дата_создания_записи'] = df5['Дата_создания_записи'].to_datetime()"
   ]
  },
  {
   "cell_type": "code",
   "execution_count": null,
   "metadata": {},
   "outputs": [],
   "source": [
    "pd.to_datetime(df8['Дата_создания_записи'])"
   ]
  },
  {
   "cell_type": "code",
   "execution_count": null,
   "metadata": {},
   "outputs": [],
   "source": [
    "df11"
   ]
  },
  {
   "cell_type": "code",
   "execution_count": null,
   "metadata": {},
   "outputs": [],
   "source": [
    "df11.info()"
   ]
  },
  {
   "cell_type": "code",
   "execution_count": null,
   "metadata": {},
   "outputs": [],
   "source": [
    "df11['date_zach'] = df11['дата_зачисления'].str.extract(r'(\\d{1,2}.\\d{1,2}.\\d{4})')"
   ]
  },
  {
   "cell_type": "code",
   "execution_count": null,
   "metadata": {},
   "outputs": [],
   "source": [
    "df11['date_zach']"
   ]
  },
  {
   "cell_type": "code",
   "execution_count": null,
   "metadata": {},
   "outputs": [],
   "source": [
    "df11[df11['date_zach'] == '09.01.205 ']"
   ]
  },
  {
   "cell_type": "code",
   "execution_count": null,
   "metadata": {},
   "outputs": [],
   "source": [
    "df11 = df11.drop(df11[(df11['date_zach'] == '09.01.205 ') ].index)"
   ]
  },
  {
   "cell_type": "code",
   "execution_count": null,
   "metadata": {},
   "outputs": [],
   "source": [
    "df11"
   ]
  },
  {
   "cell_type": "code",
   "execution_count": null,
   "metadata": {},
   "outputs": [],
   "source": [
    "df11.isin([\"205\"])"
   ]
  },
  {
   "cell_type": "code",
   "execution_count": null,
   "metadata": {},
   "outputs": [],
   "source": [
    "df11"
   ]
  },
  {
   "cell_type": "code",
   "execution_count": null,
   "metadata": {},
   "outputs": [],
   "source": []
  },
  {
   "cell_type": "code",
   "execution_count": null,
   "metadata": {},
   "outputs": [],
   "source": []
  },
  {
   "cell_type": "code",
   "execution_count": null,
   "metadata": {},
   "outputs": [],
   "source": [
    "df11['date_okon_zan'] = pd.to_datetime(df11['date_okon_zan'])"
   ]
  },
  {
   "cell_type": "code",
   "execution_count": null,
   "metadata": {},
   "outputs": [],
   "source": [
    "df11['week_day_d_o'] = df11['date_otch'].dt.weekday"
   ]
  },
  {
   "cell_type": "code",
   "execution_count": null,
   "metadata": {},
   "outputs": [],
   "source": []
  },
  {
   "cell_type": "code",
   "execution_count": null,
   "metadata": {},
   "outputs": [],
   "source": [
    "df11['is_weekend'] = np.where((df11['week_day'] == 5) | (df11['week_day'] == 6), 1, 0)"
   ]
  },
  {
   "cell_type": "code",
   "execution_count": null,
   "metadata": {},
   "outputs": [],
   "source": [
    "df11['is_weekend']"
   ]
  },
  {
   "cell_type": "code",
   "execution_count": null,
   "metadata": {},
   "outputs": [],
   "source": []
  },
  {
   "cell_type": "code",
   "execution_count": null,
   "metadata": {},
   "outputs": [],
   "source": [
    "df.loc[df['Плановая_дата_начала_занятий']=='215-01-09 00:00:00', 'Плановая_дата_начала_занятий'].index.values"
   ]
  },
  {
   "cell_type": "code",
   "execution_count": null,
   "metadata": {},
   "outputs": [],
   "source": []
  },
  {
   "cell_type": "code",
   "execution_count": null,
   "metadata": {},
   "outputs": [],
   "source": [
    "df['Статус'].value_counts()"
   ]
  },
  {
   "cell_type": "code",
   "execution_count": null,
   "metadata": {},
   "outputs": [],
   "source": [
    "series['date'] = series['ikey'].str.extract(r'(\\d{4}-\\d{1,2}-\\d{1,2})')"
   ]
  },
  {
   "cell_type": "code",
   "execution_count": null,
   "metadata": {},
   "outputs": [],
   "source": []
  },
  {
   "cell_type": "code",
   "execution_count": null,
   "metadata": {},
   "outputs": [],
   "source": [
    "df['id_ученика'].value_counts()"
   ]
  },
  {
   "cell_type": "code",
   "execution_count": null,
   "metadata": {},
   "outputs": [],
   "source": [
    "df[df['следующая_запись_зачисления'] == df['предыдущая_запись_зачисления']]"
   ]
  },
  {
   "cell_type": "code",
   "execution_count": null,
   "metadata": {},
   "outputs": [],
   "source": [
    "df[df['следующая_запись_зачисления'] == df['предыдущая_запись_зачисления']].count()"
   ]
  },
  {
   "cell_type": "code",
   "execution_count": null,
   "metadata": {},
   "outputs": [],
   "source": [
    "df[df['Статус'] == np.nan].dropna()"
   ]
  },
  {
   "cell_type": "code",
   "execution_count": null,
   "metadata": {},
   "outputs": [],
   "source": [
    "df.isna().sum()"
   ]
  },
  {
   "cell_type": "code",
   "execution_count": null,
   "metadata": {},
   "outputs": [],
   "source": [
    "df['Статус'].fillna(np.nan, inplace=True)"
   ]
  },
  {
   "cell_type": "code",
   "execution_count": null,
   "metadata": {},
   "outputs": [],
   "source": [
    "df[df['Статус'] == np.nan]"
   ]
  },
  {
   "cell_type": "code",
   "execution_count": null,
   "metadata": {},
   "outputs": [],
   "source": [
    "df.isna().sum()"
   ]
  },
  {
   "cell_type": "code",
   "execution_count": null,
   "metadata": {},
   "outputs": [],
   "source": [
    "df.dropna()"
   ]
  },
  {
   "cell_type": "code",
   "execution_count": null,
   "metadata": {},
   "outputs": [],
   "source": [
    "df.isna().sum()"
   ]
  },
  {
   "cell_type": "code",
   "execution_count": null,
   "metadata": {},
   "outputs": [],
   "source": [
    "df['Статус'].fillna(df['Статус'].mode())"
   ]
  },
  {
   "cell_type": "code",
   "execution_count": null,
   "metadata": {},
   "outputs": [],
   "source": [
    "df['Статус'].mode()"
   ]
  },
  {
   "cell_type": "code",
   "execution_count": null,
   "metadata": {},
   "outputs": [],
   "source": [
    "df['id_ученика'].fillna(df['id_ученика'].mode())"
   ]
  },
  {
   "cell_type": "code",
   "execution_count": null,
   "metadata": {},
   "outputs": [],
   "source": [
    "df1 = df.fillna(df.mode(), inplace = True)"
   ]
  },
  {
   "cell_type": "code",
   "execution_count": null,
   "metadata": {},
   "outputs": [],
   "source": [
    "df1.isna().sum()"
   ]
  },
  {
   "cell_type": "code",
   "execution_count": null,
   "metadata": {},
   "outputs": [],
   "source": [
    "df1.describe()"
   ]
  },
  {
   "cell_type": "code",
   "execution_count": null,
   "metadata": {},
   "outputs": [],
   "source": [
    "df1"
   ]
  },
  {
   "cell_type": "code",
   "execution_count": null,
   "metadata": {},
   "outputs": [],
   "source": []
  }
 ],
 "metadata": {
  "kernelspec": {
   "display_name": "Python 3",
   "language": "python",
   "name": "python3"
  },
  "language_info": {
   "codemirror_mode": {
    "name": "ipython",
    "version": 3
   },
   "file_extension": ".py",
   "mimetype": "text/x-python",
   "name": "python",
   "nbconvert_exporter": "python",
   "pygments_lexer": "ipython3",
   "version": "3.6.9"
  }
 },
 "nbformat": 4,
 "nbformat_minor": 4
}
